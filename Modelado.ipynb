{
  "nbformat": 4,
  "nbformat_minor": 0,
  "metadata": {
    "colab": {
      "name": "Modelado.ipynb",
      "provenance": []
    },
    "kernelspec": {
      "name": "python3",
      "display_name": "Python 3"
    }
  },
  "cells": [
    {
      "cell_type": "code",
      "metadata": {
        "id": "j2eRJACo7OQX"
      },
      "source": [
        "data = pd.read_pickle('training_data.obj')\n",
        "test = pd.read_csv('test.csv')"
      ],
      "execution_count": 356,
      "outputs": []
    },
    {
      "cell_type": "code",
      "metadata": {
        "id": "B7LU-MM-7-Ls"
      },
      "source": [
        "data['antiguedad'] = data['FechaAltaCliente'] - data['Año-Mes']\n",
        "data.drop(columns=['FechaAltaCliente'],inplace=True)"
      ],
      "execution_count": 357,
      "outputs": []
    },
    {
      "cell_type": "code",
      "metadata": {
        "id": "JzvGvEzL8Jbp"
      },
      "source": [
        "cols = ['Hl_sum_3M','Dcto_porc_3M','Hl_sum_6M','Dcto_porc_6M','Hl_sum_1M','Dcto_porc_1M','Region','SubCanal','TipoPoblacion','Estrato','EF','antiguedad','Mes','Hl_sum_prodSim_3M', 'Dcto_porc_prodSim_3M', 'Hl_sum_prodSim_6M', 'Dcto_porc_prodSim_6M', 'Hl_sum_prodSim_1M', 'Dcto_porc_prodSim_1M','avg_6M_exec']\n",
        "# Borrados: Duration, nProm\n",
        "# Borrados: \n",
        "cats = ['Region','SubCanal','TipoPoblacion','Estrato','EF']\n",
        "cats_bools = [False,False,False,False,False,False,False,True,True,True,True,True,False,False,False,False,False,False,False,False,False,False]\n",
        "\n",
        "training_data = data[data['Año-Mes'] > 0]\n",
        "present_data = data[data['Año-Mes'] < 1]"
      ],
      "execution_count": 386,
      "outputs": []
    },
    {
      "cell_type": "code",
      "metadata": {
        "id": "jAiBZbF4-hWG"
      },
      "source": [
        "training_data.sort_values(by='Año-Mes',ascending=False,axis=0)\n",
        "training_data = training_data.reset_index(drop=True)\n",
        "nrows = len(training_data.index)\n",
        "breakpoint = (2*nrows)//3\n",
        "data_train = training_data.iloc[0:breakpoint]\n",
        "data_test = training_data.iloc[breakpoint:nrows]\n",
        "\n",
        "x_test = data_test[cols]\n",
        "y_test = data_test['Exec']\n",
        "x_train = data_train[cols]\n",
        "y_train = data_train['Exec']"
      ],
      "execution_count": 387,
      "outputs": []
    },
    {
      "cell_type": "code",
      "metadata": {
        "id": "q2YBCvwNAt7D"
      },
      "source": [
        "eval_df = pd.merge(test,present_data,how='inner',on=['Marca','Cupo','Cliente'])\n",
        "eval_df = eval_df[~eval_df.duplicated(['Marca','Cupo','Cliente'])]\n",
        "x_eval = eval_df[cols]"
      ],
      "execution_count": 380,
      "outputs": []
    },
    {
      "cell_type": "code",
      "metadata": {
        "id": "FyB9gkpFAnav"
      },
      "source": [
        "# example of random oversampling to balance the class distribution\n",
        "from collections import Counter\n",
        "from imblearn.over_sampling import SMOTENC\n",
        "\n",
        "sm = SMOTENC(categorical_features=cats_bools,random_state=12, sampling_strategy  = 1/6)\n",
        "mat_train_res, y_train_res = sm.fit_sample(x_train,y_train)\n",
        "\n",
        "x_train_res = pd.DataFrame(mat_train_res,columns=cols)\n",
        "\n",
        "for col in cats:\n",
        "    x_train_res[col] = x_train_res[col].astype('category')"
      ],
      "execution_count": 361,
      "outputs": []
    },
    {
      "cell_type": "code",
      "metadata": {
        "id": "H6MjHkMPNM-I"
      },
      "source": [
        "param_grid = {'max_bin':[255,400,500],\n",
        "              'colsample_bytree':[0.64,0.65,0.66],\n",
        "              'num_leaves':[8,16,24],\n",
        "              'learning_rate':[0.005,0.01,0.03,0.05],\n",
        "              'feature_fraction':[],\n",
        "              'bagging_fraction':[],\n",
        "              'reg_alpha':[1,1.2,1.4],\n",
        "              'reg_lambda':[1,1.2,1.4],\n",
        "              'subsample':[0.65,0.75,0.85]\n",
        "              }"
      ],
      "execution_count": null,
      "outputs": []
    },
    {
      "cell_type": "code",
      "metadata": {
        "id": "nrfDAnZA_Vkr"
      },
      "source": [
        "lgb_train = lgb.Dataset(x_train, y_train)\n",
        "lgb_eval = lgb.Dataset(x_test, y_test, reference=lgb_train)\n",
        "\n",
        "params = {'boosting_type': 'gbdt',\n",
        "    'objective': 'binary',\n",
        "    'metric': 'auc',\n",
        "    'max_bin': 300,\n",
        "    'colsample_bytree': 0.64,\n",
        "    'num_leaves': 24,\n",
        "    'learning_rate': 0.01,\n",
        "    'reg_alpha': 1,\n",
        "    'reg_lambda': 1.2,\n",
        "    'subsample': 0.7}\n",
        "\n",
        "gbm = lgb.train(params,\n",
        "                lgb_train,\n",
        "                num_boost_round=200,\n",
        "                valid_sets=lgb_eval,\n",
        "                categorical_feature=cats)\n",
        "\n",
        "preds = gbm.predict(x_eval)\n",
        "test['Ejecuto_Promo'] = preds\n",
        "test.to_csv('output_lgbm.csv',index=False)"
      ],
      "execution_count": null,
      "outputs": []
    },
    {
      "cell_type": "code",
      "metadata": {
        "colab": {
          "base_uri": "https://localhost:8080/"
        },
        "id": "OKfTmvq9MB3H",
        "outputId": "d091fd92-47e6-45ed-86d3-3a6ea5061f7d"
      },
      "source": [
        "list(zip(x_train.columns,gbm.feature_importance()))"
      ],
      "execution_count": 389,
      "outputs": [
        {
          "output_type": "execute_result",
          "data": {
            "text/plain": [
              "[('Hl_sum_3M', 215),\n",
              " ('Dcto_porc_3M', 154),\n",
              " ('Hl_sum_6M', 416),\n",
              " ('Dcto_porc_6M', 308),\n",
              " ('Hl_sum_1M', 340),\n",
              " ('Dcto_porc_1M', 183),\n",
              " ('Region', 366),\n",
              " ('SubCanal', 145),\n",
              " ('TipoPoblacion', 21),\n",
              " ('Estrato', 19),\n",
              " ('EF', 9),\n",
              " ('antiguedad', 105),\n",
              " ('Mes', 1313),\n",
              " ('Hl_sum_prodSim_3M', 57),\n",
              " ('Dcto_porc_prodSim_3M', 71),\n",
              " ('Hl_sum_prodSim_6M', 32),\n",
              " ('Dcto_porc_prodSim_6M', 23),\n",
              " ('Hl_sum_prodSim_1M', 41),\n",
              " ('Dcto_porc_prodSim_1M', 36),\n",
              " ('avg_6M_exec', 746)]"
            ]
          },
          "metadata": {
            "tags": []
          },
          "execution_count": 389
        }
      ]
    }
  ]
}